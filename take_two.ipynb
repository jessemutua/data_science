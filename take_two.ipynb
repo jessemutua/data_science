{
 "cells": [
  {
   "cell_type": "code",
   "execution_count": 2,
   "id": "1a3f9430",
   "metadata": {},
   "outputs": [
    {
     "name": "stdout",
     "output_type": "stream",
     "text": [
      "5.0\n"
     ]
    }
   ],
   "source": [
    "import math\n",
    "\n",
    "result = math.sqrt(25)\n",
    "\n",
    "print (result)"
   ]
  },
  {
   "cell_type": "code",
   "execution_count": 2,
   "id": "33e2692f",
   "metadata": {},
   "outputs": [
    {
     "name": "stdout",
     "output_type": "stream",
     "text": [
      "5.0\n"
     ]
    }
   ],
   "source": [
    "from math import sqrt\n",
    "print (sqrt(25))"
   ]
  },
  {
   "cell_type": "code",
   "execution_count": 3,
   "id": "17fbbec7",
   "metadata": {},
   "outputs": [
    {
     "name": "stdout",
     "output_type": "stream",
     "text": [
      "['__doc__', '__file__', '__loader__', '__name__', '__package__', '__spec__', 'acos', 'acosh', 'asin', 'asinh', 'atan', 'atan2', 'atanh', 'cbrt', 'ceil', 'comb', 'copysign', 'cos', 'cosh', 'degrees', 'dist', 'e', 'erf', 'erfc', 'exp', 'exp2', 'expm1', 'fabs', 'factorial', 'floor', 'fmod', 'frexp', 'fsum', 'gamma', 'gcd', 'hypot', 'inf', 'isclose', 'isfinite', 'isinf', 'isnan', 'isqrt', 'lcm', 'ldexp', 'lgamma', 'log', 'log10', 'log1p', 'log2', 'modf', 'nan', 'nextafter', 'perm', 'pi', 'pow', 'prod', 'radians', 'remainder', 'sin', 'sinh', 'sqrt', 'tan', 'tanh', 'tau', 'trunc', 'ulp']\n"
     ]
    }
   ],
   "source": [
    "import math\n",
    "\n",
    "print (dir(math))"
   ]
  },
  {
   "cell_type": "code",
   "execution_count": 4,
   "id": "a1835d7c",
   "metadata": {},
   "outputs": [
    {
     "name": "stdout",
     "output_type": "stream",
     "text": [
      "2.5\n",
      "2\n",
      "2.5\n"
     ]
    }
   ],
   "source": [
    "print (10/4)\n",
    "print (10//4)\n",
    "print (10/ float(4))"
   ]
  },
  {
   "cell_type": "code",
   "execution_count": 6,
   "id": "d49fd8b8",
   "metadata": {},
   "outputs": [
    {
     "name": "stdout",
     "output_type": "stream",
     "text": [
      "False\n"
     ]
    }
   ],
   "source": [
    "print (isinstance(2.0, int))"
   ]
  },
  {
   "cell_type": "code",
   "execution_count": 24,
   "id": "a7ab92d9",
   "metadata": {},
   "outputs": [
    {
     "name": "stdout",
     "output_type": "stream",
     "text": [
      "['Maggie', 'Homer', 'marge', 'bart', 'itchy', 'Lisa']\n",
      "['Lisa', 'itchy', 'bart', 'marge', 'Homer', 'Maggie']\n",
      "None\n"
     ]
    }
   ],
   "source": [
    "simpsons = ['Homer', 'marge', 'bart']\n",
    "\n",
    "simpsons.extend(['itchy', 'Lisa'])\n",
    "# simpsons.append('Scratchy')\n",
    "simpsons.insert(0, 'Maggie')\n",
    "print (simpsons)\n",
    "print(simpsons[::-1])\n",
    "print(simpsons.sort(reverse=True))"
   ]
  },
  {
   "cell_type": "code",
   "execution_count": 29,
   "id": "5634a788",
   "metadata": {},
   "outputs": [
    {
     "name": "stdout",
     "output_type": "stream",
     "text": [
      "This is text\n",
      "Ilk o\n"
     ]
    }
   ],
   "source": [
    "def print_text():\n",
    "    print('This is text')\n",
    "\n",
    "print_text()\n",
    "s= \"I like you\"\n",
    "print(s[::2])"
   ]
  },
  {
   "cell_type": "code",
   "execution_count": 30,
   "id": "f470f9de",
   "metadata": {},
   "outputs": [
    {
     "name": "stdout",
     "output_type": "stream",
     "text": [
      "[['a', 1], ['a', 2], ['b', 1], ['b', 2], ['c', 1], ['c', 2]]\n"
     ]
    }
   ],
   "source": [
    "import itertools\n",
    "\n",
    "print([[x,y] for x, y in itertools.product(['a', 'b', 'c'], [1,2])])\n"
   ]
  },
  {
   "cell_type": "code",
   "execution_count": 34,
   "id": "8b18a1b5",
   "metadata": {},
   "outputs": [
    {
     "data": {
      "text/plain": [
       "range(0, 3)"
      ]
     },
     "execution_count": 34,
     "metadata": {},
     "output_type": "execute_result"
    }
   ],
   "source": [
    "range(0,3)"
   ]
  },
  {
   "cell_type": "code",
   "execution_count": 38,
   "id": "c995962e",
   "metadata": {},
   "outputs": [
    {
     "name": "stdout",
     "output_type": "stream",
     "text": [
      "1000000\n"
     ]
    }
   ],
   "source": [
    "v=0\n",
    "for i in range(10 ** 6):\n",
    "    v += 1\n",
    "\n",
    "print (v)"
   ]
  },
  {
   "cell_type": "code",
   "execution_count": 46,
   "id": "97fbc492",
   "metadata": {},
   "outputs": [
    {
     "name": "stdout",
     "output_type": "stream",
     "text": [
      "[0, 8, 64, 216, 512]\n"
     ]
    }
   ],
   "source": [
    "nums = [0,1,2,3,4,5,6,7,8,9]\n",
    "cubes = [num**3 for num in nums if num % 2 == 0]\n",
    "print (cubes)"
   ]
  },
  {
   "cell_type": "code",
   "execution_count": null,
   "id": "92af6553",
   "metadata": {},
   "outputs": [],
   "source": []
  }
 ],
 "metadata": {
  "kernelspec": {
   "display_name": "Python 3 (ipykernel)",
   "language": "python",
   "name": "python3"
  },
  "language_info": {
   "codemirror_mode": {
    "name": "ipython",
    "version": 3
   },
   "file_extension": ".py",
   "mimetype": "text/x-python",
   "name": "python",
   "nbconvert_exporter": "python",
   "pygments_lexer": "ipython3",
   "version": "3.11.4"
  }
 },
 "nbformat": 4,
 "nbformat_minor": 5
}
